{
 "metadata": {
  "name": ""
 },
 "nbformat": 3,
 "nbformat_minor": 0,
 "worksheets": [
  {
   "cells": [
    {
     "cell_type": "code",
     "collapsed": false,
     "input": [
      "import mha\n",
      "import numpy as np\n",
      "from matplotlib import pyplot as plt\n",
      "%matplotlib inline"
     ],
     "language": "python",
     "metadata": {},
     "outputs": [],
     "prompt_number": 10
    },
    {
     "cell_type": "code",
     "collapsed": false,
     "input": [
      "#Initialize user variables\n",
      "patch_size = 21\n",
      "patch_pixels = patch_size*patch_size\n",
      "pixel_offset = int(patch_size*0.7)\n",
      "padding = patch_size/2\n",
      "threshold = patch_pixels*0.3\n",
      "patches = np.zeros(patch_pixels*4)\n",
      "ground_truth = np.zeros(1)\n"
     ],
     "language": "python",
     "metadata": {},
     "outputs": [],
     "prompt_number": 11
    },
    {
     "cell_type": "code",
     "collapsed": false,
     "input": [
      "#paths to images\n",
      "path = 'data/Normalized_Training/'\n",
      "folder = 'brats_tcia_pat105_1/'\n",
      "\n",
      "#image names\n",
      "Flair = 'N_VSD.Brain.XX.O.MR_Flair.35533.mha'\n",
      "T1 = 'N_VSD.Brain.XX.O.MR_T1.35536.mha'\n",
      "T2 = 'N_VSD.Brain.XX.O.MR_T2.35534.mha'\n",
      "T_1c = 'N_VSD.Brain.XX.O.MR_T_1c.35535.mha'\n",
      "Truth = 'VSD.Brain_3more.XX.O.OT.42283.mha'\n",
      "\n"
     ],
     "language": "python",
     "metadata": {},
     "outputs": [],
     "prompt_number": 12
    },
    {
     "cell_type": "code",
     "collapsed": false,
     "input": [
      "#Read .mha images\n",
      "Flair_image = mha.new(path+folder+Flair)\n",
      "T1_image = mha.new(path+folder+T1)\n",
      "T2_image = mha.new(path+folder+T2)\n",
      "T_1c_image = mha.new(path+folder+T_1c)\n",
      "Truth_image = mha.new(path+folder+Truth)\n",
      "\n",
      "Flair_image = Flair_image.data\n",
      "T1_image = T1_image.data\n",
      "T2_image = T2_image.data\n",
      "T_1c_image = T_1c_image.data\n",
      "Truth_image = Truth_image.data"
     ],
     "language": "python",
     "metadata": {},
     "outputs": [],
     "prompt_number": 13
    },
    {
     "cell_type": "code",
     "collapsed": false,
     "input": [
      "#number_of_slices = np.size(Flair_image,axis=2)\n",
      "count1, count2, count3, count4, count5 = 0,0,0,0,0\n",
      "\n",
      "x_span,y_span,z_span = np.where(Truth_image!=0)\n",
      "start_slice = min(z_span)\n",
      "stop_slice = max(z_span)\n",
      "\n",
      "for i in range(start_slice, stop_slice+1):    \n",
      "    Flair_slice = np.transpose(Flair_image[:,:,i])\n",
      "    T1_slice = np.transpose(T1_image[:,:,i])\n",
      "    T2_slice = np.transpose(T2_image[:,:,i])\n",
      "    T_1c_slice = np.transpose(T_1c_image[:,:,i])\n",
      "    Truth_slice = np.transpose(Truth_image[:,:,i])\n",
      "    \n",
      "    x_dim,y_dim = np.size(Flair_slice,axis=0), np.size(Flair_slice, axis=1)\n",
      "    \n",
      "    x_span,y_span = np.where(Truth_slice!=0)\n",
      "    x_start = np.min(x_span) - padding\n",
      "    x_stop = np.max(x_span) + padding\n",
      "    y_start = np.min(y_span) - padding\n",
      "    y_stop = np.max(y_span) + padding\n",
      "    \n",
      "    iterate_x = x_start\n",
      "    while iterate_x <= x_stop:    \n",
      "        iterate_y = y_start\n",
      "        while iterate_y <= y_stop:\n",
      "            temp_patch = np.zeros(patch_pixels*4)\n",
      "            if iterate_x < patch_size/2:\n",
      "                print 'Correction X min'\n",
      "                iterate_x = (patch_size/2) +1\n",
      "            elif iterate_x > x_dim - (patch_size/2):\n",
      "                print 'Correction X max'\n",
      "                iterate_x = x_dim - (patch_size/2) -1\n",
      "            if iterate_y < (patch_size/2):\n",
      "                print 'Correction Y min'\n",
      "                iterate_y = (patch_size/2)\n",
      "            elif iterate_y > y_dim - (patch_size/2):\n",
      "                print 'Correction Y max'\n",
      "                iterate_y = y_dim - (patch_size/2) - 1\n",
      "                \n",
      "            #print (iterate_x,iterate_y)\n",
      "            Flair_patch = Flair_slice[(iterate_x-(patch_size/2)):(iterate_x+(patch_size/2)+1), (iterate_y-(patch_size/2)):(iterate_y+(patch_size/2)+1)]\n",
      "            temp_patch[0:patch_pixels] = np.asarray(Flair_patch).reshape(-1)\n",
      "            \n",
      "            if np.sum((temp_patch[0:patch_pixels]!=0).astype(int))<threshold:\n",
      "                iterate_y = iterate_y+pixel_offset\n",
      "                count1 = count1+1\n",
      "                continue\n",
      "            \n",
      "            T1_patch = T1_slice[(iterate_x-(patch_size/2)):(iterate_x+(patch_size/2)+1), (iterate_y-(patch_size/2)):(iterate_y+(patch_size/2)+1)]\n",
      "            temp_patch[patch_pixels:2*patch_pixels] = np.asarray(T1_patch).reshape(-1)\n",
      "            \n",
      "            T2_patch = T2_slice[(iterate_x-(patch_size/2)):(iterate_x+(patch_size/2)+1), (iterate_y-(patch_size/2)):(iterate_y+(patch_size/2)+1)]\n",
      "            temp_patch[2*patch_pixels:3*patch_pixels] = np.asarray(T2_patch).reshape(-1)\n",
      "            \n",
      "            T_1c_patch = T_1c_slice[(iterate_x-(patch_size/2)):(iterate_x+(patch_size/2)+1), (iterate_y-(patch_size/2)):(iterate_y+(patch_size/2)+1)]\n",
      "            temp_patch[3*patch_pixels:4*patch_pixels] = np.asarray(T_1c_patch).reshape(-1)\n",
      "            \n",
      "            #truth_patch = Truth_slice[(iterate_x-(patch_size/2)):(iterate_x+(patch_size/2)+1), (iterate_y-(patch_size/2)):(iterate_y+(patch_size/2)+1)]\n",
      "            #truth_patch = np.asarray(truth_patch).reshape(-1)\n",
      "            #if np.sum((truth_patch!=0).astype(int))<threshold:\n",
      "            #    iterate_y = iterate_y+pixel_offset\n",
      "            #    count5 = count5+1\n",
      "            #    continue\n",
      "            \n",
      "            pixel_truth = np.asarray(Truth_slice[iterate_x,iterate_y])\n",
      "            patches = np.vstack([patches,temp_patch])\n",
      "            ground_truth = np.vstack([ground_truth, pixel_truth])\n",
      "            iterate_y = iterate_y + pixel_offset\n",
      "        iterate_x = iterate_x + pixel_offset\n",
      "        \n",
      "    #plt.imshow(Flair_slice[x_start:x_stop,y_start:y_stop])\n",
      "print count1"
     ],
     "language": "python",
     "metadata": {},
     "outputs": [
      {
       "output_type": "stream",
       "stream": "stdout",
       "text": [
        "347\n"
       ]
      }
     ],
     "prompt_number": 14
    },
    {
     "cell_type": "code",
     "collapsed": false,
     "input": [
      "print np.size(patches,axis=0), np.size(patches,axis=1)\n"
     ],
     "language": "python",
     "metadata": {},
     "outputs": [
      {
       "output_type": "stream",
       "stream": "stdout",
       "text": [
        "1864 1764\n"
       ]
      }
     ],
     "prompt_number": 15
    },
    {
     "cell_type": "code",
     "collapsed": false,
     "input": [
      "print np.sum((ground_truth!=0).astype(int))"
     ],
     "language": "python",
     "metadata": {},
     "outputs": [
      {
       "output_type": "stream",
       "stream": "stdout",
       "text": [
        "606\n"
       ]
      }
     ],
     "prompt_number": 16
    },
    {
     "cell_type": "code",
     "collapsed": false,
     "input": [
      "print np.sum((ground_truth==0).astype(int)), np.sum((ground_truth==1).astype(int)), np.sum((ground_truth==2).astype(int))\n",
      "print np.sum((ground_truth==3).astype(int)), np.sum((ground_truth==4).astype(int))"
     ],
     "language": "python",
     "metadata": {},
     "outputs": [
      {
       "output_type": "stream",
       "stream": "stdout",
       "text": [
        "1258 70 240\n",
        "75 221\n"
       ]
      }
     ],
     "prompt_number": 17
    },
    {
     "cell_type": "code",
     "collapsed": false,
     "input": [
      "print np.sum((Truth_image==0).astype(int)), np.sum((Truth_image==1).astype(int)), np.sum((Truth_image==2).astype(int))\n",
      "print np.sum((Truth_image==3).astype(int)), np.sum((Truth_image==4).astype(int))"
     ],
     "language": "python",
     "metadata": {},
     "outputs": [
      {
       "output_type": "stream",
       "stream": "stdout",
       "text": [
        "8813985 15476 "
       ]
      },
      {
       "output_type": "stream",
       "stream": "stdout",
       "text": [
        "35716\n",
        "12689 "
       ]
      },
      {
       "output_type": "stream",
       "stream": "stdout",
       "text": [
        "50134\n"
       ]
      }
     ],
     "prompt_number": 18
    },
    {
     "cell_type": "code",
     "collapsed": false,
     "input": [],
     "language": "python",
     "metadata": {},
     "outputs": [],
     "prompt_number": 18
    }
   ],
   "metadata": {}
  }
 ]
}